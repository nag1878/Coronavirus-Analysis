{
 "cells": [
  {
   "cell_type": "code",
   "execution_count": null,
   "metadata": {},
   "outputs": [],
   "source": [
    "import pandas as pd"
   ]
  },
  {
   "cell_type": "markdown",
   "metadata": {},
   "source": [
    "## Reading CSV into dataframe"
   ]
  },
  {
   "cell_type": "code",
   "execution_count": null,
   "metadata": {},
   "outputs": [],
   "source": [
    "url =r'C:\\Users\\Nagesh.Rao\\Documents\\COVID analysis\\novel-corona-virus-2019-dataset\\covid_19_data.csv'\n",
    "df = pd.read_csv(url)"
   ]
  },
  {
   "cell_type": "code",
   "execution_count": null,
   "metadata": {},
   "outputs": [],
   "source": [
    "df"
   ]
  },
  {
   "cell_type": "code",
   "execution_count": null,
   "metadata": {},
   "outputs": [],
   "source": [
    "# df['pct_of_Total_world'] = df['Confirmed']/\n",
    "df['Closed'] = df['Recovered'] + df['Deaths']\n",
    "df"
   ]
  },
  {
   "cell_type": "code",
   "execution_count": null,
   "metadata": {},
   "outputs": [],
   "source": [
    "us_count = df[df['Country/Region'] == 'US']\n",
    "us_count"
   ]
  },
  {
   "cell_type": "code",
   "execution_count": null,
   "metadata": {},
   "outputs": [],
   "source": [
    "temp_arr = df[df['Province/State'] == 'Recovered']\n",
    "set(temp_arr['Country/Region'])\n",
    "\n",
    "display(temp_arr.groupby('Country/Region').sum())\n",
    "display(us_count['Recovered'].sum())"
   ]
  },
  {
   "cell_type": "code",
   "execution_count": null,
   "metadata": {},
   "outputs": [],
   "source": [
    "# temp = us_count.groupby(df['Province/State']).sum()\n",
    "us_count = us_count.set_index('SNo')"
   ]
  },
  {
   "cell_type": "code",
   "execution_count": null,
   "metadata": {},
   "outputs": [],
   "source": [
    "us_count\n",
    "# temp['Confirmed'].sum() == us_count['Confirmed'].sum()\n",
    "# confirmed_by_province.drop(confirmed_by_province['SNo']) "
   ]
  },
  {
   "cell_type": "markdown",
   "metadata": {},
   "source": [
    "## The below cell plots the rise in Confirmed(cumulative counts) cases in the US since Jan 2020"
   ]
  },
  {
   "cell_type": "code",
   "execution_count": null,
   "metadata": {},
   "outputs": [],
   "source": [
    "import matplotlib.pyplot as plt\n",
    "us_fig = plt.figure(figsize=(10,10))\n",
    "ax = us_fig.add_axes([0,0,1,1])\n",
    "ax.bar(us_count['ObservationDate'], us_count['Confirmed'])\n",
    "plt.show()\n"
   ]
  },
  {
   "cell_type": "code",
   "execution_count": null,
   "metadata": {},
   "outputs": [],
   "source": [
    "count_per_state = us_count.groupby('Province/State').sum().sort_values(by= 'Confirmed', ascending = False)\n",
    "count_per_state"
   ]
  },
  {
   "cell_type": "markdown",
   "metadata": {},
   "source": [
    "## The below cell depicts cumulative counts per State(ordered by Confirmed cases)"
   ]
  },
  {
   "cell_type": "code",
   "execution_count": null,
   "metadata": {},
   "outputs": [],
   "source": [
    "from IPython.display import display, HTML\n",
    "count_per_state.sort_values(by='Province/State')\n",
    "pd.set_option('display.max_columns', None)\n",
    "pd.set_option('display.max_rows', None)\n",
    "# count_per_state\n",
    "count_per_state = count_per_state[:55]\n",
    "count_per_state.reset_index()\n",
    "count_per_state\n",
    "# display(HTML(count_per_state.to_html()))"
   ]
  },
  {
   "cell_type": "markdown",
   "metadata": {},
   "source": [
    "## This cell calculates the number of Active cases, Recovery %, Death%, Active%, Confirm% per state as to all Confirmed cases in US, Mortality rate per state"
   ]
  },
  {
   "cell_type": "code",
   "execution_count": null,
   "metadata": {},
   "outputs": [],
   "source": [
    "count_per_state['Active'] = count_per_state['Confirmed'] - count_per_state['Deaths'] - count_per_state['Recovered']\n",
    "count_per_state['Recovery%'] = round(((count_per_state['Recovered']/count_per_state['Confirmed']) * 100), 2)\n",
    "count_per_state['Deaths%'] = round(((count_per_state['Deaths']/count_per_state['Confirmed']) * 100), 2)\n",
    "count_per_state['Active%'] = round(((count_per_state['Active']/count_per_state['Confirmed']) * 100), 2)\n",
    "count_per_state['pct_of_Total_US_confirm'] = round((count_per_state['Confirmed']/count_per_state['Confirmed'].sum()), 2) * 100\n",
    "count_per_state['Mortality_rate_per_state'] = round((count_per_state['Deaths']/count_per_state['Confirmed']), 2) * 100\n",
    "count_per_state.reset_index()\n",
    "count_per_state = count_per_state.sort_values('Confirmed', ascending=False)\n",
    "count_per_state"
   ]
  },
  {
   "cell_type": "code",
   "execution_count": null,
   "metadata": {},
   "outputs": [],
   "source": [
    "Total_mortality_rate = round(count_per_state['Deaths'].sum()/count_per_state['Confirmed'].sum(), 2) * 100\n",
    "Total_mortality_rate"
   ]
  },
  {
   "cell_type": "markdown",
   "metadata": {},
   "source": [
    "## Arranging data in descending order of Mortality rate(cumulative)"
   ]
  },
  {
   "cell_type": "code",
   "execution_count": null,
   "metadata": {},
   "outputs": [],
   "source": [
    "count_per_state.sort_values(by='Mortality_rate_per_state', ascending=False)"
   ]
  },
  {
   "cell_type": "code",
   "execution_count": null,
   "metadata": {},
   "outputs": [],
   "source": [
    "import matplotlib.pyplot as plt\n",
    "fig = plt.figure(figsize=(10,10))\n",
    "ax = fig.add_axes([0,0,1,1])\n",
    "ax.relplot(\"Province/State\", count_per_state['Mortality_rate_per_state'])\n",
    "plt.show()\n",
    "\n",
    "# count_per_state['Mortality_rate_per_state'].plot(kind = 'barh', figsize = (10,20))"
   ]
  },
  {
   "cell_type": "markdown",
   "metadata": {},
   "source": [
    "### Point of note: Michigan has the highest mortality rate even though it has the 4th most number of cases in USA"
   ]
  },
  {
   "cell_type": "code",
   "execution_count": null,
   "metadata": {},
   "outputs": [],
   "source": [
    "import seaborn as sns\n",
    "sns.set(style=\"whitegrid\")\n",
    "# tips = sns.load_dataset(us_count)\n",
    "plot = sns.relplot(data = count_per_state)\n",
    "plot.fig.set_size_inches(15,50)"
   ]
  },
  {
   "cell_type": "markdown",
   "metadata": {},
   "source": [
    "## This is a graph to plot to compare number of Confirmed(cumulative) case in all states of USA"
   ]
  },
  {
   "cell_type": "code",
   "execution_count": null,
   "metadata": {},
   "outputs": [],
   "source": [
    "count_per_state['Confirmed'].plot(kind = 'barh', figsize = (10,20))"
   ]
  },
  {
   "cell_type": "markdown",
   "metadata": {},
   "source": [
    "## The below two tables "
   ]
  },
  {
   "cell_type": "code",
   "execution_count": null,
   "metadata": {},
   "outputs": [],
   "source": [
    "import calendar\n",
    "month = str(pd.DatetimeIndex(df['ObservationDate']).month\n",
    "month_names = item.apply(lambda x: calendar.month_abbr[x]) for item in month"
   ]
  },
  {
   "cell_type": "code",
   "execution_count": null,
   "metadata": {},
   "outputs": [],
   "source": [
    "\n",
    "import matplotlib.pyplot as plt\n",
    "fig = plt.figure(figsize=(10,10))\n",
    "ax = fig.add_axes([0,0,1,1])\n",
    "ax.bar(df['ObservationDate'], df['Confirmed'])\n",
    "plt.show()"
   ]
  },
  {
   "cell_type": "code",
   "execution_count": null,
   "metadata": {},
   "outputs": [],
   "source": [
    "df['ObservationDate'].min()"
   ]
  },
  {
   "cell_type": "code",
   "execution_count": null,
   "metadata": {},
   "outputs": [],
   "source": [
    "df['ObservationDate'].max()\n",
    "df.nunique()"
   ]
  },
  {
   "cell_type": "code",
   "execution_count": null,
   "metadata": {},
   "outputs": [],
   "source": [
    "count_by_country = df.groupby('Country/Region').sum()\n",
    "count_by_country = count_by_country.drop(['SNo', 'Month'], axis = 1)\n",
    "count_by_country['confirmed%'] = round(((count_by_country['Confirmed']/count_by_country['Confirmed'].sum()) * 100), 2)\n",
    "count_by_country['recovered%'] = round(((count_by_country['Recovered']/count_by_country['Recovered'].sum()) * 100), 2)\n",
    "count_by_country['deaths%'] = round(((count_by_country['Deaths']/count_by_country['Deaths'].sum()) * 100), 2)\n",
    "count_by_country = count_by_country.sort_values(by= 'deaths%', ascending = False)\n",
    "count_by_country"
   ]
  },
  {
   "cell_type": "code",
   "execution_count": null,
   "metadata": {},
   "outputs": [],
   "source": [
    "count_by_country['Deaths'].plot(kind = 'barh', figsize = (10,50))"
   ]
  },
  {
   "cell_type": "markdown",
   "metadata": {},
   "source": [
    "#### Interesting note the trend in number of Deaths reported. US and Italy have been in the news as of 4/22, but it looks like they are the worst of all countries. The number of deaths reported increases exponentially and seem to be in highest developed countries. \n",
    "\n",
    "\n",
    "Possible reasons:\n",
    "1. Better reporting in these countries.\n",
    "2. Better life expectancy of these countries. This is in line with new reports around the world because Coronavirus has been more lethal among older \n",
    "populations. According to World of meters, France, UK, Spain and Italy fall in the top 50 countries accoridng to life \n",
    "expectancy. Other countries may not have made it because of lack of raw numbers.\n"
   ]
  },
  {
   "cell_type": "code",
   "execution_count": null,
   "metadata": {},
   "outputs": [],
   "source": [
    "count_by_country['Confirmed'].plot(kind = 'barh', figsize = (10,50))"
   ]
  },
  {
   "cell_type": "markdown",
   "metadata": {},
   "source": [
    "#### USA has had the most amount of testing and has done more testing than other countries combines, as per POTUS. \n",
    "\n",
    "#### As of 4/22, USA had 4.5 million tests done as compared to Italy, in second place, at 1.5 million"
   ]
  },
  {
   "cell_type": "markdown",
   "metadata": {},
   "source": [
    "## Analysis of COVID cases in Italy"
   ]
  },
  {
   "cell_type": "code",
   "execution_count": null,
   "metadata": {},
   "outputs": [],
   "source": [
    "df.set_index('SNo')"
   ]
  },
  {
   "cell_type": "code",
   "execution_count": null,
   "metadata": {},
   "outputs": [],
   "source": [
    "italy_count = df[df['Country/Region'] == 'Italy']\n",
    "italy_count.set_index('SNo')"
   ]
  },
  {
   "cell_type": "markdown",
   "metadata": {},
   "source": [
    "## Plotting the total number of Confirmed cases for Italy"
   ]
  },
  {
   "cell_type": "code",
   "execution_count": null,
   "metadata": {},
   "outputs": [],
   "source": [
    "import matplotlib.pyplot as plt\n",
    "italy_fig = plt.figure(figsize=(10,10))\n",
    "ax = italy_fig.add_axes([0,0,1,1])\n",
    "ax.bar(italy_count['ObservationDate'], italy_count['Confirmed'])\n",
    "plt.show()\n"
   ]
  },
  {
   "cell_type": "markdown",
   "metadata": {},
   "source": [
    "#### As of 4/22 we see that the curve was just beginning to peak at that point. The curve is flattening as of 5/11, but not completely flat"
   ]
  }
 ],
 "metadata": {
  "kernelspec": {
   "display_name": "Python 3",
   "language": "python",
   "name": "python3"
  },
  "language_info": {
   "codemirror_mode": {
    "name": "ipython",
    "version": 3
   },
   "file_extension": ".py",
   "mimetype": "text/x-python",
   "name": "python",
   "nbconvert_exporter": "python",
   "pygments_lexer": "ipython3",
   "version": "3.7.4"
  }
 },
 "nbformat": 4,
 "nbformat_minor": 2
}
